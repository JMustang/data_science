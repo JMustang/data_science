{
 "cells": [
  {
   "cell_type": "markdown",
   "id": "61b643ec-2094-42c9-8fda-b6c57f281e28",
   "metadata": {},
   "source": [
    "# Aula de Data Science"
   ]
  },
  {
   "cell_type": "markdown",
   "id": "8272beba-07e7-439f-ab2f-29d08db7edd0",
   "metadata": {},
   "source": [
    "### imports"
   ]
  },
  {
   "cell_type": "code",
   "execution_count": 1,
   "id": "fb6b2c7e-e012-4526-a6f9-c20a1685b6ed",
   "metadata": {},
   "outputs": [],
   "source": [
    "import pandas as pd\n",
    "import os"
   ]
  },
  {
   "cell_type": "markdown",
   "id": "6511d1dc-c215-486b-94aa-efff25b7a67c",
   "metadata": {},
   "source": [
    "### concatenando arquivos"
   ]
  },
  {
   "cell_type": "code",
   "execution_count": 6,
   "id": "a47873ae-4196-4217-9b40-ad34fda58ce8",
   "metadata": {},
   "outputs": [],
   "source": [
    "df = pd.read_csv('./Sales_Data/Sales_April_2019.csv')\n",
    "\n",
    "files = [file for file in os.listdir('./Sales_Data')]\n",
    "\n",
    "all_months_data = pd.DataFrame()\n",
    "\n",
    "for file in files:\n",
    "  df = pd.read_csv('./Sales_Data/'+file)\n",
    "  all_months_data = pd.concat([all_months_data, df])\n",
    "    \n",
    "# esse comando cria um novo arquivo na raiz do projeto com todos os .csv concatenados    \n",
    "all_months_data.to_csv('all_data.csv', index=False)"
   ]
  },
  {
   "cell_type": "code",
   "execution_count": null,
   "id": "41384968-7763-499c-8538-e02625ff55b7",
   "metadata": {},
   "outputs": [],
   "source": []
  }
 ],
 "metadata": {
  "kernelspec": {
   "display_name": "Python 3",
   "language": "python",
   "name": "python3"
  },
  "language_info": {
   "codemirror_mode": {
    "name": "ipython",
    "version": 3
   },
   "file_extension": ".py",
   "mimetype": "text/x-python",
   "name": "python",
   "nbconvert_exporter": "python",
   "pygments_lexer": "ipython3",
   "version": "3.9.6"
  }
 },
 "nbformat": 4,
 "nbformat_minor": 5
}
